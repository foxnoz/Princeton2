{
 "cells": [
  {
   "cell_type": "code",
   "execution_count": 2,
   "metadata": {},
   "outputs": [
    {
     "ename": "ValueError",
     "evalue": "could not convert string to float: '-f'",
     "output_type": "error",
     "traceback": [
      "\u001b[0;31m---------------------------------------------------------------------------\u001b[0m",
      "\u001b[0;31mValueError\u001b[0m                                Traceback (most recent call last)",
      "\u001b[0;32m<ipython-input-2-5616de8350d5>\u001b[0m in \u001b[0;36m<module>\u001b[0;34m\u001b[0m\n\u001b[1;32m     44\u001b[0m \u001b[0;34m\u001b[0m\u001b[0m\n\u001b[1;32m     45\u001b[0m \u001b[0;32mif\u001b[0m \u001b[0m__name__\u001b[0m \u001b[0;34m==\u001b[0m \u001b[0;34m'__main__'\u001b[0m\u001b[0;34m:\u001b[0m\u001b[0;34m\u001b[0m\u001b[0;34m\u001b[0m\u001b[0m\n\u001b[0;32m---> 46\u001b[0;31m     \u001b[0mmain\u001b[0m\u001b[0;34m(\u001b[0m\u001b[0;34m)\u001b[0m\u001b[0;34m\u001b[0m\u001b[0;34m\u001b[0m\u001b[0m\n\u001b[0m",
      "\u001b[0;32m<ipython-input-2-5616de8350d5>\u001b[0m in \u001b[0;36mmain\u001b[0;34m()\u001b[0m\n\u001b[1;32m     37\u001b[0m \u001b[0;34m\u001b[0m\u001b[0m\n\u001b[1;32m     38\u001b[0m \u001b[0;32mdef\u001b[0m \u001b[0mmain\u001b[0m\u001b[0;34m(\u001b[0m\u001b[0;34m)\u001b[0m\u001b[0;34m:\u001b[0m\u001b[0;34m\u001b[0m\u001b[0;34m\u001b[0m\u001b[0m\n\u001b[0;32m---> 39\u001b[0;31m     \u001b[0mz\u001b[0m \u001b[0;34m=\u001b[0m \u001b[0mfloat\u001b[0m\u001b[0;34m(\u001b[0m\u001b[0msys\u001b[0m\u001b[0;34m.\u001b[0m\u001b[0margv\u001b[0m\u001b[0;34m[\u001b[0m\u001b[0;36m1\u001b[0m\u001b[0;34m]\u001b[0m\u001b[0;34m)\u001b[0m\u001b[0;34m\u001b[0m\u001b[0;34m\u001b[0m\u001b[0m\n\u001b[0m\u001b[1;32m     40\u001b[0m     \u001b[0mmu\u001b[0m \u001b[0;34m=\u001b[0m \u001b[0mfloat\u001b[0m\u001b[0;34m(\u001b[0m\u001b[0msys\u001b[0m\u001b[0;34m.\u001b[0m\u001b[0margv\u001b[0m\u001b[0;34m[\u001b[0m\u001b[0;36m2\u001b[0m\u001b[0;34m]\u001b[0m\u001b[0;34m)\u001b[0m\u001b[0;34m\u001b[0m\u001b[0;34m\u001b[0m\u001b[0m\n\u001b[1;32m     41\u001b[0m     \u001b[0msigma\u001b[0m \u001b[0;34m=\u001b[0m \u001b[0mfloat\u001b[0m\u001b[0;34m(\u001b[0m\u001b[0msys\u001b[0m\u001b[0;34m.\u001b[0m\u001b[0margv\u001b[0m\u001b[0;34m[\u001b[0m\u001b[0;36m3\u001b[0m\u001b[0;34m]\u001b[0m\u001b[0;34m)\u001b[0m\u001b[0;34m\u001b[0m\u001b[0;34m\u001b[0m\u001b[0m\n",
      "\u001b[0;31mValueError\u001b[0m: could not convert string to float: '-f'"
     ]
    }
   ],
   "source": [
    "import sys\n",
    "import stdio\n",
    "import math\n",
    "\n",
    "#-----------------------------------------------------------------------\n",
    "\n",
    "# Возвращает значение функции вероятности Гаусса со средним значением mu\n",
    "# и сигма стандартного отклонения при заданном значении x.\n",
    "\n",
    "def pdf(x, mu=0.0, sigma=1.0):\n",
    "    x = float(x - mu) / sigma\n",
    "    return math.exp(-x*x/2.0) / math.sqrt(2.0*math.pi) / sigma\n",
    "\n",
    "#-----------------------------------------------------------------------\n",
    "\n",
    "# Возвращает значение кумулятивной функции распределения Гаусса\n",
    "# со средним значением mu и сигмой стандартного отклонения при заданном значении z.\n",
    "\n",
    "def cdf(z, mu=0.0, sigma=1.0):\n",
    "    z = float(z - mu) / sigma\n",
    "    if z < -8.0: return 0.0\n",
    "    if z > +8.0: return 1.0\n",
    "    total = 0.0\n",
    "    term = z\n",
    "    i = 3\n",
    "    while total != total + term:\n",
    "        total += term\n",
    "        term *= z * z / i\n",
    "        i += 2\n",
    "    return 0.5 + total * pdf(z)\n",
    "\n",
    "#-----------------------------------------------------------------------\n",
    "\n",
    "# Принимайте числа с плавающей точкой z, mu и sigma в качестве аргументов командной строки. Используйте их\n",
    "# для проверки функций phi() и Phi(). Написать\n",
    "# результаты для стандартного вывода.\n",
    "\n",
    "def main():\n",
    "    z = float(sys.argv[1])\n",
    "    mu = float(sys.argv[2])\n",
    "    sigma = float(sys.argv[3])\n",
    "\n",
    "    stdio.writeln(cdf(z, mu, sigma))\n",
    "\n",
    "if __name__ == '__main__':\n",
    "    main()\n"
   ]
  },
  {
   "cell_type": "code",
   "execution_count": 5,
   "metadata": {},
   "outputs": [
    {
     "ename": "SystemExit",
     "evalue": "",
     "output_type": "error",
     "traceback": [
      "An exception has occurred, use %tb to see the full traceback.\n",
      "\u001b[0;31mSystemExit\u001b[0m\n"
     ]
    },
    {
     "name": "stderr",
     "output_type": "stream",
     "text": [
      "/home/foxnoz/anaconda3/lib/python3.7/site-packages/IPython/core/interactiveshell.py:3426: UserWarning: To exit: use 'exit', 'quit', or Ctrl-D.\n",
      "  warn(\"To exit: use 'exit', 'quit', or Ctrl-D.\", stacklevel=1)\n"
     ]
    }
   ],
   "source": [
    "import stddraw\n",
    "\n",
    "# Draw a bouncing ball to standard draw.\n",
    "\n",
    "RADIUS = .01\n",
    "DT = 2.0\n",
    "stddraw.setCanvasSize(1000, 1000)\n",
    "stddraw.setXscale(-1.05, 1.05)\n",
    "stddraw.setYscale(-1.05, 1.05)\n",
    "\n",
    "rx = .480\n",
    "ry = .160\n",
    "vx = .015\n",
    "vy = .023\n",
    "\n",
    "while True:\n",
    "    # Update ball position and draw it there.\n",
    "    if abs(rx + vx) + RADIUS > 1.0:\n",
    "        vx = -vx\n",
    "    if abs(ry + vy) + RADIUS > 1.0:\n",
    "        vy = -vy\n",
    "    rx = rx + vx\n",
    "    ry = ry + vy\n",
    "    \n",
    "    #stddraw.clear(stddraw.GRAY)\n",
    "    stddraw.filledCircle(rx, ry, RADIUS)\n",
    "    stddraw.show(DT)\n",
    "    #stddraw.setCanvasSize(1000, 1000)\n"
   ]
  },
  {
   "cell_type": "code",
   "execution_count": 7,
   "metadata": {},
   "outputs": [
    {
     "name": "stdout",
     "output_type": "stream",
     "text": [
      "hello\n"
     ]
    }
   ],
   "source": [
    "print(\"hello\")\n"
   ]
  }
 ],
 "metadata": {
  "kernelspec": {
   "display_name": "Python 3",
   "language": "python",
   "name": "python3"
  },
  "language_info": {
   "codemirror_mode": {
    "name": "ipython",
    "version": 3
   },
   "file_extension": ".py",
   "mimetype": "text/x-python",
   "name": "python",
   "nbconvert_exporter": "python",
   "pygments_lexer": "ipython3",
   "version": "3.7.9"
  }
 },
 "nbformat": 4,
 "nbformat_minor": 4
}
